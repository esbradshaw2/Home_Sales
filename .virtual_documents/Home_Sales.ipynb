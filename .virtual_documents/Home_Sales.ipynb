# Import findspark and initialize. 
import findspark
findspark.init()


# Import packages
from pyspark.sql import SparkSession
import time
import pandas as pd

# Create a SparkSession
spark = SparkSession.builder.appName("SparkSQL").getOrCreate()


# 1. Read in the AWS S3 bucket into a DataFrame.
from pyspark import SparkFiles
url = "https://2u-data-curriculum-team.s3.amazonaws.com/dataviz-classroom/v1.2/22-big-data/home_sales_revised.csv"
spark.sparkContext.addFile(url)
df = spark.read.csv("file://" + SparkFiles.get("home_sales_revised.csv"), header=True, inferSchema=True)
df.show(10)



# 2. Create a temporary view of the DataFrame.
df.createOrReplaceTempView("home_sales")



# 3. What is the average price for a four bedroom house sold per year, rounded to two decimal places?
query1 = spark.sql("SELECT date, ROUND(AVG(price), 2) AS AvgPrice FROM home_sales WHERE bedrooms = 4 GROUP BY date")
query1.show()



# 4. What is the average price of a home for each year the home was built,
# that have 3 bedrooms and 3 bathrooms, rounded to two decimal places?
query2 = spark.sql("SELECT date_built, ROUND(AVG(price), 2) AS AvgPrice FROM home_sales WHERE bedrooms = 3 AND bathrooms = 3 GROUP BY date_built")
query2.show()



# 5. What is the average price of a home for each year the home was built,
# that have 3 bedrooms, 3 bathrooms, with two floors,
# and are greater than or equal to 2,000 square feet, rounded to two decimal places?
query3 = spark.sql("SELECT date_built, ROUND(AVG(price), 2) AS AvgPrice FROM home_sales WHERE bedrooms = 3 AND bathrooms = 3 AND floors = 2 AND sqft_living >= 2000 GROUP BY date_built")
query3.show()



# 6. What is the average price of a home per "view" rating, rounded to two decimal places,
# having an average home price greater than or equal to $350,000? Order by descending view rating. 
# Although this is a small dataset, determine the run time for this query.

query4 = spark.sql("SELECT view, ROUND(AVG(price), 2) AS AvgPrice FROM home_sales GROUP BY view HAVING AVG(price) >= 350000 ORDER BY view DESC")
query4.show()


start_time = time.time()
query4.show()


print("--- %s seconds ---" % (time.time() - start_time))


# 7. Cache the the temporary table home_sales.
spark.catalog.cacheTable("home_sales")


# 8. Check if the table is cached.
spark.catalog.isCached('home_sales')


# 9. Using the cached data, run the last query above, that calculates 
# the average price of a home per "view" rating, rounded to two decimal places,
# having an average home price greater than or equal to $350,000. 
# Determine the runtime and compare it to the uncached runtime.

start_time = time.time()

query4.show()

print("--- %s seconds ---" % (time.time() - start_time))



# 10. Partition by the "date_built" field on the formatted parquet home sales data 
df.write.partitionBy("date_built").parquet("home_sales_partitioned.parquet")



# 11. Read the formatted parquet data.
parquet_df = spark.read.parquet("home_sales_partitioned.parquet")



# 12. Create a temporary table for the parquet data.
parquet_df.createOrReplaceTempView("home_sales_parquet")



# 13. Using the parquet DataFrame, run the last query above, that calculates 
# the average price of a home per "view" rating, rounded to two decimal places,
# having an average home price greater than or equal to $350,000. 
# Determine the runtime and compare it to the cached runtime.

start_time = time.time()

query4.show()

print("--- %s seconds ---" % (time.time() - start_time))


# 14. Uncache the home_sales temporary table.
spark.catalog.uncacheTable("home_sales")


# 15. Check if the home_sales is no longer cached

print(spark.catalog.isCached('home_sales'))
